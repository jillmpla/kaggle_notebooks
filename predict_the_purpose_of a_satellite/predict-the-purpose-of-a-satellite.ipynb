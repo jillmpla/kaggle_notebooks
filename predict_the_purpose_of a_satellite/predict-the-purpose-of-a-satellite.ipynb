{
 "cells": [
  {
   "cell_type": "code",
   "execution_count": 1,
   "id": "ec7e21d3",
   "metadata": {
    "_cell_guid": "b1076dfc-b9ad-4769-8c92-a6c4dae69d19",
    "_uuid": "8f2839f25d086af736a60e9eeb907d3b93b6e0e5",
    "execution": {
     "iopub.execute_input": "2024-06-15T16:24:46.331061Z",
     "iopub.status.busy": "2024-06-15T16:24:46.330660Z",
     "iopub.status.idle": "2024-06-15T16:25:00.761371Z",
     "shell.execute_reply": "2024-06-15T16:25:00.759998Z"
    },
    "papermill": {
     "duration": 14.441238,
     "end_time": "2024-06-15T16:25:00.763844",
     "exception": false,
     "start_time": "2024-06-15T16:24:46.322606",
     "status": "completed"
    },
    "tags": []
   },
   "outputs": [
    {
     "name": "stdout",
     "output_type": "stream",
     "text": [
      "Collecting chardet\r\n",
      "  Downloading chardet-5.2.0-py3-none-any.whl.metadata (3.4 kB)\r\n",
      "Downloading chardet-5.2.0-py3-none-any.whl (199 kB)\r\n",
      "\u001b[2K   \u001b[90m━━━━━━━━━━━━━━━━━━━━━━━━━━━━━━━━━━━━━━━━\u001b[0m \u001b[32m199.4/199.4 kB\u001b[0m \u001b[31m5.2 MB/s\u001b[0m eta \u001b[36m0:00:00\u001b[0m\r\n",
      "\u001b[?25hInstalling collected packages: chardet\r\n",
      "Successfully installed chardet-5.2.0\r\n"
     ]
    }
   ],
   "source": [
    "!pip install chardet"
   ]
  },
  {
   "cell_type": "code",
   "execution_count": 2,
   "id": "1ad68f18",
   "metadata": {
    "execution": {
     "iopub.execute_input": "2024-06-15T16:25:00.778843Z",
     "iopub.status.busy": "2024-06-15T16:25:00.778387Z",
     "iopub.status.idle": "2024-06-15T16:25:05.077624Z",
     "shell.execute_reply": "2024-06-15T16:25:05.076340Z"
    },
    "papermill": {
     "duration": 4.30985,
     "end_time": "2024-06-15T16:25:05.080349",
     "exception": false,
     "start_time": "2024-06-15T16:25:00.770499",
     "status": "completed"
    },
    "tags": []
   },
   "outputs": [],
   "source": [
    "import os\n",
    "import pandas as pd\n",
    "import numpy as np\n",
    "import matplotlib.pyplot as plt\n",
    "import seaborn as sns\n",
    "import chardet\n",
    "from sklearn.model_selection import train_test_split, GridSearchCV\n",
    "from sklearn.preprocessing import LabelEncoder, StandardScaler, OneHotEncoder, PolynomialFeatures\n",
    "from sklearn.compose import ColumnTransformer\n",
    "from sklearn.ensemble import RandomForestClassifier\n",
    "from sklearn.metrics import classification_report, accuracy_score\n",
    "from sklearn.pipeline import Pipeline\n",
    "import lightgbm as lgb\n",
    "from lightgbm import LGBMClassifier\n",
    "import warnings\n",
    "import logging\n",
    "import pickle"
   ]
  },
  {
   "cell_type": "code",
   "execution_count": 3,
   "id": "56cfb053",
   "metadata": {
    "execution": {
     "iopub.execute_input": "2024-06-15T16:25:05.095485Z",
     "iopub.status.busy": "2024-06-15T16:25:05.094513Z",
     "iopub.status.idle": "2024-06-15T16:25:05.105710Z",
     "shell.execute_reply": "2024-06-15T16:25:05.104477Z"
    },
    "papermill": {
     "duration": 0.021394,
     "end_time": "2024-06-15T16:25:05.108195",
     "exception": false,
     "start_time": "2024-06-15T16:25:05.086801",
     "status": "completed"
    },
    "tags": []
   },
   "outputs": [
    {
     "name": "stdout",
     "output_type": "stream",
     "text": [
      "/kaggle/input/every-known-satellite-orbiting-earth/UCS-Satellite-Database-Officialname-1-1-2023.csv\n",
      "/kaggle/input/every-known-satellite-orbiting-earth/UCS-Satellite-Database-1-1-2023.csv\n"
     ]
    }
   ],
   "source": [
    "for dirname, _, filenames in os.walk('/kaggle/input'):\n",
    "    for filename in filenames:\n",
    "        print(os.path.join(dirname, filename))"
   ]
  },
  {
   "cell_type": "code",
   "execution_count": 4,
   "id": "82bcccff",
   "metadata": {
    "execution": {
     "iopub.execute_input": "2024-06-15T16:25:05.122609Z",
     "iopub.status.busy": "2024-06-15T16:25:05.122206Z",
     "iopub.status.idle": "2024-06-15T16:25:05.126980Z",
     "shell.execute_reply": "2024-06-15T16:25:05.126002Z"
    },
    "papermill": {
     "duration": 0.014398,
     "end_time": "2024-06-15T16:25:05.129033",
     "exception": false,
     "start_time": "2024-06-15T16:25:05.114635",
     "status": "completed"
    },
    "tags": []
   },
   "outputs": [],
   "source": [
    "file_path = '/kaggle/input/every-known-satellite-orbiting-earth/UCS-Satellite-Database-Officialname-1-1-2023.csv'"
   ]
  },
  {
   "cell_type": "code",
   "execution_count": 5,
   "id": "9747676d",
   "metadata": {
    "execution": {
     "iopub.execute_input": "2024-06-15T16:25:05.143474Z",
     "iopub.status.busy": "2024-06-15T16:25:05.143085Z",
     "iopub.status.idle": "2024-06-15T16:25:14.231581Z",
     "shell.execute_reply": "2024-06-15T16:25:14.230482Z"
    },
    "papermill": {
     "duration": 9.098575,
     "end_time": "2024-06-15T16:25:14.234069",
     "exception": false,
     "start_time": "2024-06-15T16:25:05.135494",
     "status": "completed"
    },
    "tags": []
   },
   "outputs": [
    {
     "name": "stdout",
     "output_type": "stream",
     "text": [
      "Detected encoding: Windows-1252\n"
     ]
    },
    {
     "data": {
      "text/html": [
       "<div>\n",
       "<style scoped>\n",
       "    .dataframe tbody tr th:only-of-type {\n",
       "        vertical-align: middle;\n",
       "    }\n",
       "\n",
       "    .dataframe tbody tr th {\n",
       "        vertical-align: top;\n",
       "    }\n",
       "\n",
       "    .dataframe thead th {\n",
       "        text-align: right;\n",
       "    }\n",
       "</style>\n",
       "<table border=\"1\" class=\"dataframe\">\n",
       "  <thead>\n",
       "    <tr style=\"text-align: right;\">\n",
       "      <th></th>\n",
       "      <th>Current Official Name of Satellite</th>\n",
       "      <th>Country/Org of UN Registry</th>\n",
       "      <th>Country of Operator/Owner</th>\n",
       "      <th>Operator/Owner</th>\n",
       "      <th>Users</th>\n",
       "      <th>Purpose</th>\n",
       "      <th>Detailed Purpose</th>\n",
       "      <th>Class of Orbit</th>\n",
       "      <th>Type of Orbit</th>\n",
       "      <th>Longitude of GEO (degrees)</th>\n",
       "      <th>...</th>\n",
       "      <th>Unnamed: 57</th>\n",
       "      <th>Unnamed: 58</th>\n",
       "      <th>Unnamed: 59</th>\n",
       "      <th>Unnamed: 60</th>\n",
       "      <th>Unnamed: 61</th>\n",
       "      <th>Unnamed: 62</th>\n",
       "      <th>Unnamed: 63</th>\n",
       "      <th>Unnamed: 64</th>\n",
       "      <th>Unnamed: 65</th>\n",
       "      <th>Unnamed: 66</th>\n",
       "    </tr>\n",
       "  </thead>\n",
       "  <tbody>\n",
       "    <tr>\n",
       "      <th>0</th>\n",
       "      <td>1HOPSAT-TD</td>\n",
       "      <td>NR</td>\n",
       "      <td>USA</td>\n",
       "      <td>Hera Systems</td>\n",
       "      <td>Commercial</td>\n",
       "      <td>Earth Observation</td>\n",
       "      <td>Infrared Imaging</td>\n",
       "      <td>LEO</td>\n",
       "      <td>Non-Polar Inclined</td>\n",
       "      <td>0.0</td>\n",
       "      <td>...</td>\n",
       "      <td>NaN</td>\n",
       "      <td>NaN</td>\n",
       "      <td>NaN</td>\n",
       "      <td>NaN</td>\n",
       "      <td>NaN</td>\n",
       "      <td>NaN</td>\n",
       "      <td>NaN</td>\n",
       "      <td>NaN</td>\n",
       "      <td>NaN</td>\n",
       "      <td>NaN</td>\n",
       "    </tr>\n",
       "    <tr>\n",
       "      <th>1</th>\n",
       "      <td>Aalto-1</td>\n",
       "      <td>Finland</td>\n",
       "      <td>Finland</td>\n",
       "      <td>Aalto University</td>\n",
       "      <td>Civil</td>\n",
       "      <td>Technology Development</td>\n",
       "      <td>NaN</td>\n",
       "      <td>LEO</td>\n",
       "      <td>Sun-Synchronous</td>\n",
       "      <td>0.0</td>\n",
       "      <td>...</td>\n",
       "      <td>NaN</td>\n",
       "      <td>NaN</td>\n",
       "      <td>NaN</td>\n",
       "      <td>NaN</td>\n",
       "      <td>NaN</td>\n",
       "      <td>NaN</td>\n",
       "      <td>NaN</td>\n",
       "      <td>NaN</td>\n",
       "      <td>NaN</td>\n",
       "      <td>NaN</td>\n",
       "    </tr>\n",
       "    <tr>\n",
       "      <th>2</th>\n",
       "      <td>AAt-4</td>\n",
       "      <td>Denmark</td>\n",
       "      <td>Denmark</td>\n",
       "      <td>University of Aalborg</td>\n",
       "      <td>Civil</td>\n",
       "      <td>Earth Observation</td>\n",
       "      <td>Automatic Identification System (AIS)</td>\n",
       "      <td>LEO</td>\n",
       "      <td>Sun-Synchronous</td>\n",
       "      <td>0.0</td>\n",
       "      <td>...</td>\n",
       "      <td>NaN</td>\n",
       "      <td>NaN</td>\n",
       "      <td>NaN</td>\n",
       "      <td>NaN</td>\n",
       "      <td>NaN</td>\n",
       "      <td>NaN</td>\n",
       "      <td>NaN</td>\n",
       "      <td>NaN</td>\n",
       "      <td>NaN</td>\n",
       "      <td>NaN</td>\n",
       "    </tr>\n",
       "    <tr>\n",
       "      <th>3</th>\n",
       "      <td>ABS-2</td>\n",
       "      <td>NR</td>\n",
       "      <td>Multinational</td>\n",
       "      <td>Asia Broadcast Satellite Ltd.</td>\n",
       "      <td>Commercial</td>\n",
       "      <td>Communications</td>\n",
       "      <td>NaN</td>\n",
       "      <td>GEO</td>\n",
       "      <td>NaN</td>\n",
       "      <td>75.0</td>\n",
       "      <td>...</td>\n",
       "      <td>NaN</td>\n",
       "      <td>NaN</td>\n",
       "      <td>NaN</td>\n",
       "      <td>NaN</td>\n",
       "      <td>NaN</td>\n",
       "      <td>NaN</td>\n",
       "      <td>NaN</td>\n",
       "      <td>NaN</td>\n",
       "      <td>NaN</td>\n",
       "      <td>NaN</td>\n",
       "    </tr>\n",
       "    <tr>\n",
       "      <th>4</th>\n",
       "      <td>ABS-2A</td>\n",
       "      <td>NR</td>\n",
       "      <td>Multinational</td>\n",
       "      <td>Asia Broadcast Satellite Ltd.</td>\n",
       "      <td>Commercial</td>\n",
       "      <td>Communications</td>\n",
       "      <td>NaN</td>\n",
       "      <td>GEO</td>\n",
       "      <td>NaN</td>\n",
       "      <td>-75.0</td>\n",
       "      <td>...</td>\n",
       "      <td>NaN</td>\n",
       "      <td>NaN</td>\n",
       "      <td>NaN</td>\n",
       "      <td>NaN</td>\n",
       "      <td>NaN</td>\n",
       "      <td>NaN</td>\n",
       "      <td>NaN</td>\n",
       "      <td>NaN</td>\n",
       "      <td>NaN</td>\n",
       "      <td>NaN</td>\n",
       "    </tr>\n",
       "  </tbody>\n",
       "</table>\n",
       "<p>5 rows × 67 columns</p>\n",
       "</div>"
      ],
      "text/plain": [
       "  Current Official Name of Satellite Country/Org of UN Registry  \\\n",
       "0                         1HOPSAT-TD                         NR   \n",
       "1                            Aalto-1                    Finland   \n",
       "2                              AAt-4                    Denmark   \n",
       "3                              ABS-2                         NR   \n",
       "4                             ABS-2A                         NR   \n",
       "\n",
       "  Country of Operator/Owner                 Operator/Owner       Users  \\\n",
       "0                       USA                   Hera Systems  Commercial   \n",
       "1                   Finland               Aalto University       Civil   \n",
       "2                   Denmark          University of Aalborg       Civil   \n",
       "3             Multinational  Asia Broadcast Satellite Ltd.  Commercial   \n",
       "4             Multinational  Asia Broadcast Satellite Ltd.  Commercial   \n",
       "\n",
       "                  Purpose                       Detailed Purpose  \\\n",
       "0       Earth Observation                       Infrared Imaging   \n",
       "1  Technology Development                                    NaN   \n",
       "2       Earth Observation  Automatic Identification System (AIS)   \n",
       "3          Communications                                    NaN   \n",
       "4          Communications                                    NaN   \n",
       "\n",
       "  Class of Orbit       Type of Orbit  Longitude of GEO (degrees)  ...  \\\n",
       "0            LEO  Non-Polar Inclined                         0.0  ...   \n",
       "1            LEO     Sun-Synchronous                         0.0  ...   \n",
       "2            LEO     Sun-Synchronous                         0.0  ...   \n",
       "3            GEO                 NaN                        75.0  ...   \n",
       "4            GEO                 NaN                       -75.0  ...   \n",
       "\n",
       "  Unnamed: 57 Unnamed: 58  Unnamed: 59 Unnamed: 60 Unnamed: 61 Unnamed: 62  \\\n",
       "0         NaN         NaN          NaN         NaN         NaN         NaN   \n",
       "1         NaN         NaN          NaN         NaN         NaN         NaN   \n",
       "2         NaN         NaN          NaN         NaN         NaN         NaN   \n",
       "3         NaN         NaN          NaN         NaN         NaN         NaN   \n",
       "4         NaN         NaN          NaN         NaN         NaN         NaN   \n",
       "\n",
       "  Unnamed: 63 Unnamed: 64 Unnamed: 65  Unnamed: 66  \n",
       "0         NaN         NaN         NaN          NaN  \n",
       "1         NaN         NaN         NaN          NaN  \n",
       "2         NaN         NaN         NaN          NaN  \n",
       "3         NaN         NaN         NaN          NaN  \n",
       "4         NaN         NaN         NaN          NaN  \n",
       "\n",
       "[5 rows x 67 columns]"
      ]
     },
     "execution_count": 5,
     "metadata": {},
     "output_type": "execute_result"
    }
   ],
   "source": [
    "with open(file_path, 'rb') as f:\n",
    "    result = chardet.detect(f.read())\n",
    "detected_encoding = result['encoding']\n",
    "print(f\"Detected encoding: {detected_encoding}\")\n",
    "\n",
    "sat_df = pd.read_csv(file_path, encoding=detected_encoding)\n",
    "sat_df.head()"
   ]
  },
  {
   "cell_type": "code",
   "execution_count": 6,
   "id": "f28b5c4a",
   "metadata": {
    "execution": {
     "iopub.execute_input": "2024-06-15T16:25:14.250017Z",
     "iopub.status.busy": "2024-06-15T16:25:14.249582Z",
     "iopub.status.idle": "2024-06-15T16:25:14.260577Z",
     "shell.execute_reply": "2024-06-15T16:25:14.259362Z"
    },
    "papermill": {
     "duration": 0.021644,
     "end_time": "2024-06-15T16:25:14.263104",
     "exception": false,
     "start_time": "2024-06-15T16:25:14.241460",
     "status": "completed"
    },
    "tags": []
   },
   "outputs": [],
   "source": [
    "sat_df = sat_df.loc[:, ~sat_df.columns.str.contains('^Unnamed')]"
   ]
  },
  {
   "cell_type": "code",
   "execution_count": 7,
   "id": "8fd91e8b",
   "metadata": {
    "execution": {
     "iopub.execute_input": "2024-06-15T16:25:14.279609Z",
     "iopub.status.busy": "2024-06-15T16:25:14.279144Z",
     "iopub.status.idle": "2024-06-15T16:25:14.289999Z",
     "shell.execute_reply": "2024-06-15T16:25:14.288535Z"
    },
    "papermill": {
     "duration": 0.022538,
     "end_time": "2024-06-15T16:25:14.292904",
     "exception": false,
     "start_time": "2024-06-15T16:25:14.270366",
     "status": "completed"
    },
    "tags": []
   },
   "outputs": [],
   "source": [
    "sat_df = sat_df.loc[:, ~sat_df.columns.str.contains('^Source')]"
   ]
  },
  {
   "cell_type": "code",
   "execution_count": 8,
   "id": "a4f6a5e3",
   "metadata": {
    "execution": {
     "iopub.execute_input": "2024-06-15T16:25:14.309503Z",
     "iopub.status.busy": "2024-06-15T16:25:14.308312Z",
     "iopub.status.idle": "2024-06-15T16:25:14.317574Z",
     "shell.execute_reply": "2024-06-15T16:25:14.316232Z"
    },
    "papermill": {
     "duration": 0.020302,
     "end_time": "2024-06-15T16:25:14.320256",
     "exception": false,
     "start_time": "2024-06-15T16:25:14.299954",
     "status": "completed"
    },
    "tags": []
   },
   "outputs": [],
   "source": [
    "sat_df = sat_df.loc[:, ~sat_df.columns.str.contains('^Comments')]"
   ]
  },
  {
   "cell_type": "code",
   "execution_count": 9,
   "id": "f0027185",
   "metadata": {
    "execution": {
     "iopub.execute_input": "2024-06-15T16:25:14.336392Z",
     "iopub.status.busy": "2024-06-15T16:25:14.335984Z",
     "iopub.status.idle": "2024-06-15T16:25:14.344055Z",
     "shell.execute_reply": "2024-06-15T16:25:14.342953Z"
    },
    "papermill": {
     "duration": 0.019343,
     "end_time": "2024-06-15T16:25:14.347008",
     "exception": false,
     "start_time": "2024-06-15T16:25:14.327665",
     "status": "completed"
    },
    "tags": []
   },
   "outputs": [
    {
     "data": {
      "text/plain": [
       "Index(['Current Official Name of Satellite', 'Country/Org of UN Registry',\n",
       "       'Country of Operator/Owner', 'Operator/Owner', 'Users', 'Purpose',\n",
       "       'Detailed Purpose', 'Class of Orbit', 'Type of Orbit',\n",
       "       'Longitude of GEO (degrees)', 'Perigee (km)', 'Apogee (km)',\n",
       "       'Eccentricity', 'Inclination (degrees)', 'Period (minutes)',\n",
       "       'Launch Mass (kg.)', ' Dry Mass (kg.) ', 'Power (watts)',\n",
       "       'Date of Launch', 'Expected Lifetime (yrs.)', 'Contractor',\n",
       "       'Country of Contractor', 'Launch Site', 'Launch Vehicle',\n",
       "       'COSPAR Number', 'NORAD Number'],\n",
       "      dtype='object')"
      ]
     },
     "execution_count": 9,
     "metadata": {},
     "output_type": "execute_result"
    }
   ],
   "source": [
    "column_names = sat_df.columns\n",
    "column_names"
   ]
  },
  {
   "cell_type": "code",
   "execution_count": 10,
   "id": "468d7f35",
   "metadata": {
    "execution": {
     "iopub.execute_input": "2024-06-15T16:25:14.363733Z",
     "iopub.status.busy": "2024-06-15T16:25:14.363300Z",
     "iopub.status.idle": "2024-06-15T16:25:14.370900Z",
     "shell.execute_reply": "2024-06-15T16:25:14.369817Z"
    },
    "papermill": {
     "duration": 0.01871,
     "end_time": "2024-06-15T16:25:14.373412",
     "exception": false,
     "start_time": "2024-06-15T16:25:14.354702",
     "status": "completed"
    },
    "tags": []
   },
   "outputs": [],
   "source": [
    "#some copies\n",
    "sat_df2 = sat_df.copy()\n",
    "sat_df3 = sat_df.copy()"
   ]
  },
  {
   "cell_type": "code",
   "execution_count": 11,
   "id": "d5ea0973",
   "metadata": {
    "execution": {
     "iopub.execute_input": "2024-06-15T16:25:14.389821Z",
     "iopub.status.busy": "2024-06-15T16:25:14.389399Z",
     "iopub.status.idle": "2024-06-15T16:25:14.400266Z",
     "shell.execute_reply": "2024-06-15T16:25:14.398976Z"
    },
    "papermill": {
     "duration": 0.023066,
     "end_time": "2024-06-15T16:25:14.404189",
     "exception": false,
     "start_time": "2024-06-15T16:25:14.381123",
     "status": "completed"
    },
    "tags": []
   },
   "outputs": [
    {
     "name": "stdout",
     "output_type": "stream",
     "text": [
      "Unique Purposes: ['Earth Observation' 'Technology Development' 'Communications'\n",
      " 'Earth Science' 'Space Science' 'Space Science/Technology Demonstration'\n",
      " 'Communications/Technology Development'\n",
      " 'Communications/Maritime Tracking' 'Technology Demonstration' 'Unknown'\n",
      " 'Navigation/Global Positioning'\n",
      " 'Earth Observation/Technology Development' 'Earth Observation '\n",
      " 'Earth Observation/Communications' 'Earth/Space Observation'\n",
      " 'Educational' 'Earth Observation/Earth Science' 'Platform'\n",
      " 'Earth Observation/Space Science' 'Earth Observation/Navigation'\n",
      " 'Communications/Navigation' 'Space Observation' 'Surveillance'\n",
      " 'Navigation/Regional Positioning' 'Space Science/Technology Development'\n",
      " 'Mission Extension Technology' 'Earth Science/Earth Observation'\n",
      " 'Earth Observation/Communications/Space Science'\n",
      " 'Technology  Development' 'Technology Development/Educational'\n",
      " 'Satellite Positioning']\n"
     ]
    }
   ],
   "source": [
    "unique_purposes = sat_df['Purpose'].unique()\n",
    "print(\"Unique Purposes:\", unique_purposes)"
   ]
  },
  {
   "cell_type": "code",
   "execution_count": 12,
   "id": "62c46a4f",
   "metadata": {
    "execution": {
     "iopub.execute_input": "2024-06-15T16:25:14.420331Z",
     "iopub.status.busy": "2024-06-15T16:25:14.419913Z",
     "iopub.status.idle": "2024-06-15T16:25:14.438096Z",
     "shell.execute_reply": "2024-06-15T16:25:14.436740Z"
    },
    "papermill": {
     "duration": 0.029578,
     "end_time": "2024-06-15T16:25:14.440827",
     "exception": false,
     "start_time": "2024-06-15T16:25:14.411249",
     "status": "completed"
    },
    "tags": []
   },
   "outputs": [],
   "source": [
    "#feature selection for predicting 'Purpose'\n",
    "features = ['Country/Org of UN Registry', 'Country of Operator/Owner', 'Operator/Owner', \n",
    "            'Eccentricity', 'Users', 'Perigee (km)', 'Class of Orbit', 'Type of Orbit', \n",
    "            'Inclination (degrees)', 'Period (minutes)', 'Launch Mass (kg.)', 'Power (watts)', \n",
    "            'Launch Site', 'Expected Lifetime (yrs.)']\n",
    "\n",
    "target = 'Purpose'\n",
    "\n",
    "sat_df.dropna(subset=features, inplace=True)"
   ]
  },
  {
   "cell_type": "code",
   "execution_count": 13,
   "id": "9bbbb203",
   "metadata": {
    "execution": {
     "iopub.execute_input": "2024-06-15T16:25:14.456497Z",
     "iopub.status.busy": "2024-06-15T16:25:14.456079Z",
     "iopub.status.idle": "2024-06-15T16:25:14.486728Z",
     "shell.execute_reply": "2024-06-15T16:25:14.485708Z"
    },
    "papermill": {
     "duration": 0.041561,
     "end_time": "2024-06-15T16:25:14.489452",
     "exception": false,
     "start_time": "2024-06-15T16:25:14.447891",
     "status": "completed"
    },
    "tags": []
   },
   "outputs": [],
   "source": [
    "#separate categorical and numerical features\n",
    "categorical_features = [col for col in features if sat_df[col].dtype == 'object']\n",
    "numerical_features = [col for col in features if sat_df[col].dtype != 'object']\n",
    "\n",
    "#transformers for preprocessing\n",
    "preprocessor = ColumnTransformer(\n",
    "    transformers=[\n",
    "        ('num', StandardScaler(), numerical_features),\n",
    "        ('cat', OneHotEncoder(), categorical_features)\n",
    "    ])\n",
    "\n",
    "X1 = preprocessor.fit_transform(sat_df[features])\n",
    "\n",
    "label_encoder = LabelEncoder()\n",
    "y1 = label_encoder.fit_transform(sat_df[target])"
   ]
  },
  {
   "cell_type": "code",
   "execution_count": 14,
   "id": "1d34c9c9",
   "metadata": {
    "execution": {
     "iopub.execute_input": "2024-06-15T16:25:14.506578Z",
     "iopub.status.busy": "2024-06-15T16:25:14.505551Z",
     "iopub.status.idle": "2024-06-15T16:25:15.114501Z",
     "shell.execute_reply": "2024-06-15T16:25:15.113300Z"
    },
    "papermill": {
     "duration": 0.620008,
     "end_time": "2024-06-15T16:25:15.116890",
     "exception": false,
     "start_time": "2024-06-15T16:25:14.496882",
     "status": "completed"
    },
    "tags": []
   },
   "outputs": [
    {
     "data": {
      "image/png": "[encoded data removed]",
      "text/plain": [
       "<Figure size 1000x600 with 1 Axes>"
      ]
     },
     "metadata": {},
     "output_type": "display_data"
    }
   ],
   "source": [
    "#RandomForest classifier\n",
    "model1 = RandomForestClassifier(n_estimators=100, random_state=42)\n",
    "model1.fit(X1, y1)\n",
    "\n",
    "importances = model1.feature_importances_\n",
    "\n",
    "encoded_feature_names = preprocessor.named_transformers_['cat'].get_feature_names_out(categorical_features)\n",
    "feature_names = numerical_features + list(encoded_feature_names)\n",
    "\n",
    "#mapping from encoded feature names back to their original names\n",
    "feature_mapping = {feature: feature for feature in numerical_features}\n",
    "for original_feature in categorical_features:\n",
    "    for encoded_feature in encoded_feature_names:\n",
    "        if encoded_feature.startswith(original_feature):\n",
    "            feature_mapping[encoded_feature] = original_feature\n",
    "\n",
    "mapped_feature_names = [feature_mapping[feature] for feature in feature_names]\n",
    "\n",
    "#aggregate feature importances by original feature names\n",
    "feature_importance_df = pd.DataFrame({'Feature': mapped_feature_names, 'Importance': importances})\n",
    "feature_importance_agg = feature_importance_df.groupby('Feature').sum().reset_index()\n",
    "\n",
    "plt.figure(figsize=(10, 6))\n",
    "sns.barplot(x='Importance', y='Feature', data=feature_importance_agg.sort_values(by='Importance', ascending=False), palette='viridis')\n",
    "plt.title('Feature Importance')\n",
    "plt.show()"
   ]
  },
  {
   "cell_type": "markdown",
   "id": "6aeb1794",
   "metadata": {
    "papermill": {
     "duration": 0.007832,
     "end_time": "2024-06-15T16:25:15.132998",
     "exception": false,
     "start_time": "2024-06-15T16:25:15.125166",
     "status": "completed"
    },
    "tags": []
   },
   "source": [
    "**'Users', 'Class of Orbit', 'Type of Orbit', and 'Power (watts)' appear to be the top features for predicting 'Purpose'**"
   ]
  },
  {
   "cell_type": "markdown",
   "id": "4406fced",
   "metadata": {
    "papermill": {
     "duration": 0.008889,
     "end_time": "2024-06-15T16:25:15.149988",
     "exception": false,
     "start_time": "2024-06-15T16:25:15.141099",
     "status": "completed"
    },
    "tags": []
   },
   "source": [
    "**I have a lot of categorical data, so let's use LightGBM (Light Gradient-Boosting Machine).**"
   ]
  },
  {
   "cell_type": "markdown",
   "id": "87f97a63",
   "metadata": {
    "papermill": {
     "duration": 0.007608,
     "end_time": "2024-06-15T16:25:15.166220",
     "exception": false,
     "start_time": "2024-06-15T16:25:15.158612",
     "status": "completed"
    },
    "tags": []
   },
   "source": [
    "**What is LightGBM?**\n",
    "\n",
    "A fast, distributed, high performance gradient boosting (GBT, GBDT, GBRT, GBM or MART) framework based on decision tree algorithms, \n",
    "used for ranking, classification and many other machine learning tasks.\n",
    "\n",
    "https://lightgbm.readthedocs.io/en/latest/"
   ]
  },
  {
   "cell_type": "code",
   "execution_count": 15,
   "id": "e657a922",
   "metadata": {
    "execution": {
     "iopub.execute_input": "2024-06-15T16:25:15.184023Z",
     "iopub.status.busy": "2024-06-15T16:25:15.183621Z",
     "iopub.status.idle": "2024-06-15T16:25:15.204649Z",
     "shell.execute_reply": "2024-06-15T16:25:15.203181Z"
    },
    "papermill": {
     "duration": 0.033122,
     "end_time": "2024-06-15T16:25:15.207513",
     "exception": false,
     "start_time": "2024-06-15T16:25:15.174391",
     "status": "completed"
    },
    "tags": []
   },
   "outputs": [],
   "source": [
    "selected_features2 = ['Users', 'Class of Orbit', 'Type of Orbit', 'Power (watts)']\n",
    "target2 = 'Purpose'\n",
    "\n",
    "sat_df2.dropna(subset=selected_features2 + [target2], inplace=True)\n",
    "\n",
    "#convert numerical columns to numeric types\n",
    "sat_df2['Power (watts)'] = pd.to_numeric(sat_df2['Power (watts)'], errors='coerce')\n",
    "sat_df2.dropna(subset=['Power (watts)'], inplace=True)\n",
    "\n",
    "#encode categorical features\n",
    "label_encoders = {}\n",
    "for col in ['Users', 'Class of Orbit', 'Type of Orbit']:\n",
    "    le = LabelEncoder()\n",
    "    sat_df2[col] = le.fit_transform(sat_df2[col])\n",
    "    label_encoders[col] = le\n",
    "\n",
    "#encode target variable\n",
    "le_target = LabelEncoder()\n",
    "sat_df2[target2] = le_target.fit_transform(sat_df2[target2])"
   ]
  },
  {
   "cell_type": "code",
   "execution_count": 16,
   "id": "48840f7e",
   "metadata": {
    "execution": {
     "iopub.execute_input": "2024-06-15T16:25:15.225440Z",
     "iopub.status.busy": "2024-06-15T16:25:15.225036Z",
     "iopub.status.idle": "2024-06-15T16:25:15.239931Z",
     "shell.execute_reply": "2024-06-15T16:25:15.238508Z"
    },
    "papermill": {
     "duration": 0.026863,
     "end_time": "2024-06-15T16:25:15.242385",
     "exception": false,
     "start_time": "2024-06-15T16:25:15.215522",
     "status": "completed"
    },
    "tags": []
   },
   "outputs": [
    {
     "name": "stdout",
     "output_type": "stream",
     "text": [
      "Class distribution before removing rare classes:\n",
      " Purpose\n",
      "0    150\n",
      "2     39\n",
      "6     11\n",
      "8     10\n",
      "3      3\n",
      "4      3\n",
      "7      2\n",
      "1      1\n",
      "5      1\n",
      "Name: count, dtype: int64\n",
      "Class distribution after removing rare classes:\n",
      " Purpose\n",
      "0    150\n",
      "2     39\n",
      "6     11\n",
      "8     10\n",
      "Name: count, dtype: int64\n"
     ]
    }
   ],
   "source": [
    "#class distribution\n",
    "class_counts = sat_df2[target2].value_counts()\n",
    "print(\"Class distribution before removing rare classes:\\n\", class_counts)\n",
    "\n",
    "#remove classes with too few samples\n",
    "sat_df2 = sat_df2[sat_df2[target2].isin(class_counts[class_counts > 5].index)]\n",
    "\n",
    "#class distribution again\n",
    "class_counts = sat_df2[target2].value_counts()\n",
    "print(\"Class distribution after removing rare classes:\\n\", class_counts)"
   ]
  },
  {
   "cell_type": "code",
   "execution_count": 17,
   "id": "fc7c6558",
   "metadata": {
    "execution": {
     "iopub.execute_input": "2024-06-15T16:25:15.260666Z",
     "iopub.status.busy": "2024-06-15T16:25:15.260189Z",
     "iopub.status.idle": "2024-06-15T16:26:09.189911Z",
     "shell.execute_reply": "2024-06-15T16:26:09.188318Z"
    },
    "papermill": {
     "duration": 53.948943,
     "end_time": "2024-06-15T16:26:09.199646",
     "exception": false,
     "start_time": "2024-06-15T16:25:15.250703",
     "status": "completed"
    },
    "tags": []
   },
   "outputs": [
    {
     "name": "stdout",
     "output_type": "stream",
     "text": [
      "Best parameters found:  {'boosting_type': 'dart', 'learning_rate': 0.1, 'n_estimators': 500, 'num_leaves': 31}\n"
     ]
    }
   ],
   "source": [
    "#ignore warnings and loggings\n",
    "warnings.filterwarnings(\"ignore\")\n",
    "logging.getLogger(\"lightgbm\").setLevel(logging.ERROR)\n",
    "\n",
    "X2 = sat_df2[selected_features2]\n",
    "y2 = sat_df2[target2]\n",
    "\n",
    "#feature engineering\n",
    "pipeline = Pipeline([\n",
    "    ('poly', PolynomialFeatures(degree=2, interaction_only=True, include_bias=False)),\n",
    "    ('scaler', StandardScaler())\n",
    "])\n",
    "\n",
    "X2 = pipeline.fit_transform(X2)\n",
    "\n",
    "X_train, X_test, y_train, y_test = train_test_split(X2, y2, test_size=0.2, random_state=42, stratify=y2)\n",
    "\n",
    "#model\n",
    "lgb_model = LGBMClassifier(\n",
    "    objective='multiclass',\n",
    "    num_class=len(le_target.classes_),\n",
    "    random_state=42,\n",
    "    verbosity=-1,\n",
    "    class_weight='balanced' #balance classes\n",
    ")\n",
    "\n",
    "#parameter grid\n",
    "param_grid = {\n",
    "    'learning_rate': [0.01, 0.05, 0.1],\n",
    "    'num_leaves': [31, 50, 70],\n",
    "    'n_estimators': [100, 200, 500],\n",
    "    'boosting_type': ['gbdt', 'dart']\n",
    "}\n",
    "\n",
    "#GridSearchCV to find the best parameters\n",
    "grid_search = GridSearchCV(estimator=lgb_model, param_grid=param_grid, cv=5, n_jobs=-1, scoring='accuracy')\n",
    "grid_search.fit(X_train, y_train)\n",
    "\n",
    "best_params = grid_search.best_params_\n",
    "best_model = grid_search.best_estimator_\n",
    "\n",
    "print(\"Best parameters found: \", best_params)"
   ]
  },
  {
   "cell_type": "code",
   "execution_count": 18,
   "id": "60654de0",
   "metadata": {
    "execution": {
     "iopub.execute_input": "2024-06-15T16:26:09.219670Z",
     "iopub.status.busy": "2024-06-15T16:26:09.219197Z",
     "iopub.status.idle": "2024-06-15T16:26:09.247234Z",
     "shell.execute_reply": "2024-06-15T16:26:09.245496Z"
    },
    "papermill": {
     "duration": 0.041813,
     "end_time": "2024-06-15T16:26:09.250049",
     "exception": false,
     "start_time": "2024-06-15T16:26:09.208236",
     "status": "completed"
    },
    "tags": []
   },
   "outputs": [
    {
     "name": "stdout",
     "output_type": "stream",
     "text": [
      "Classification Report:\n",
      "               precision    recall  f1-score   support\n",
      "\n",
      "           0       1.00      1.00      1.00        30\n",
      "           2       0.89      1.00      0.94         8\n",
      "           6       1.00      0.50      0.67         2\n",
      "           8       1.00      1.00      1.00         2\n",
      "\n",
      "    accuracy                           0.98        42\n",
      "   macro avg       0.97      0.88      0.90        42\n",
      "weighted avg       0.98      0.98      0.97        42\n",
      "\n",
      "Accuracy: 97.62%\n"
     ]
    }
   ],
   "source": [
    "#predict on the test set\n",
    "y_pred = best_model.predict(X_test)\n",
    "\n",
    "#evaluate the model\n",
    "accuracy = accuracy_score(y_test, y_pred)\n",
    "report = classification_report(y_test, y_pred, zero_division=0)\n",
    "\n",
    "print(\"Classification Report:\\n\", report)\n",
    "print(\"Accuracy: {:.2f}%\".format(accuracy * 100))"
   ]
  },
  {
   "cell_type": "code",
   "execution_count": 19,
   "id": "b2c4fc4c",
   "metadata": {
    "execution": {
     "iopub.execute_input": "2024-06-15T16:26:09.269607Z",
     "iopub.status.busy": "2024-06-15T16:26:09.269185Z",
     "iopub.status.idle": "2024-06-15T16:26:09.379492Z",
     "shell.execute_reply": "2024-06-15T16:26:09.378006Z"
    },
    "papermill": {
     "duration": 0.123535,
     "end_time": "2024-06-15T16:26:09.382452",
     "exception": false,
     "start_time": "2024-06-15T16:26:09.258917",
     "status": "completed"
    },
    "tags": []
   },
   "outputs": [],
   "source": [
    "#save the model and pipeline\n",
    "with open('purpose_model.pkl', 'wb') as f:\n",
    "    pickle.dump(best_model, f)\n",
    "    \n",
    "with open('pipeline.pkl', 'wb') as f:\n",
    "    pickle.dump(pipeline, f)"
   ]
  },
  {
   "cell_type": "code",
   "execution_count": 20,
   "id": "392fba81",
   "metadata": {
    "execution": {
     "iopub.execute_input": "2024-06-15T16:26:09.401954Z",
     "iopub.status.busy": "2024-06-15T16:26:09.401525Z",
     "iopub.status.idle": "2024-06-15T16:26:09.434729Z",
     "shell.execute_reply": "2024-06-15T16:26:09.432916Z"
    },
    "papermill": {
     "duration": 0.045563,
     "end_time": "2024-06-15T16:26:09.437482",
     "exception": false,
     "start_time": "2024-06-15T16:26:09.391919",
     "status": "completed"
    },
    "tags": []
   },
   "outputs": [],
   "source": [
    "#load the model and pipeline\n",
    "with open('purpose_model.pkl', 'rb') as f:\n",
    "    loaded_model = pickle.load(f)\n",
    "\n",
    "with open('pipeline.pkl', 'rb') as f:\n",
    "    loaded_pipeline = pickle.load(f)"
   ]
  },
  {
   "cell_type": "code",
   "execution_count": 21,
   "id": "c66e5d0b",
   "metadata": {
    "execution": {
     "iopub.execute_input": "2024-06-15T16:26:09.457073Z",
     "iopub.status.busy": "2024-06-15T16:26:09.456654Z",
     "iopub.status.idle": "2024-06-15T16:26:09.475300Z",
     "shell.execute_reply": "2024-06-15T16:26:09.473478Z"
    },
    "papermill": {
     "duration": 0.03229,
     "end_time": "2024-06-15T16:26:09.478367",
     "exception": false,
     "start_time": "2024-06-15T16:26:09.446077",
     "status": "completed"
    },
    "tags": []
   },
   "outputs": [
    {
     "name": "stdout",
     "output_type": "stream",
     "text": [
      "Predicted Purpose for dummy data set 1: Earth Observation\n",
      "Predicted Purpose for dummy data set 2: Earth Observation\n",
      "Predicted Purpose for dummy data set 3: Communications\n",
      "Predicted Purpose for dummy data set 4: Earth Observation\n"
     ]
    }
   ],
   "source": [
    "#dummy data\n",
    "dummy_data_list = [\n",
    "    {'Users': 'Government', 'Class of Orbit': 'LEO', 'Type of Orbit': 'Polar', 'Power (watts)': 608},              #Should be: Earth Observation                         \n",
    "    {'Users': 'Government', 'Class of Orbit': 'LEO', 'Type of Orbit': 'Sun-Synchronous', 'Power (watts)': 1100},   #Should be: Earth Observation                      \n",
    "    {'Users': 'Military', 'Class of Orbit': 'LEO', 'Type of Orbit': 'Polar', 'Power (watts)': 300},                #Should be: Communications              \n",
    "    {'Users': 'Government', 'Class of Orbit': 'LEO', 'Type of Orbit': 'Sun-Synchronous', 'Power (watts)': 1200}    #Should be: Earth Observation\n",
    "]\n",
    "\n",
    "dummy_data = pd.DataFrame(dummy_data_list)\n",
    "\n",
    "#encode dummy data\n",
    "for col in ['Users', 'Class of Orbit', 'Type of Orbit']:\n",
    "    dummy_data[col] = label_encoders[col].transform(dummy_data[col])\n",
    "\n",
    "#transform dummy data using the pipeline\n",
    "dummy_data_transformed = loaded_pipeline.transform(dummy_data)\n",
    "\n",
    "#predictions\n",
    "dummy_pred = loaded_model.predict(dummy_data_transformed)\n",
    "dummy_pred_labels = le_target.inverse_transform(dummy_pred)\n",
    "\n",
    "for i, pred in enumerate(dummy_pred_labels):\n",
    "    print(f\"Predicted Purpose for dummy data set {i + 1}: {pred}\")"
   ]
  }
 ],
 "metadata": {
  "kaggle": {
   "accelerator": "none",
   "dataSources": [
    {
     "datasetId": 4104953,
     "sourceId": 7117698,
     "sourceType": "datasetVersion"
    }
   ],
   "dockerImageVersionId": 30732,
   "isGpuEnabled": false,
   "isInternetEnabled": true,
   "language": "python",
   "sourceType": "notebook"
  },
  "kernelspec": {
   "display_name": "Python 3",
   "language": "python",
   "name": "python3"
  },
  "language_info": {
   "codemirror_mode": {
    "name": "ipython",
    "version": 3
   },
   "file_extension": ".py",
   "mimetype": "text/x-python",
   "name": "python",
   "nbconvert_exporter": "python",
   "pygments_lexer": "ipython3",
   "version": "3.10.13"
  },
  "papermill": {
   "default_parameters": {},
   "duration": 88.769344,
   "end_time": "2024-06-15T16:26:12.107868",
   "environment_variables": {},
   "exception": null,
   "input_path": "__notebook__.ipynb",
   "output_path": "__notebook__.ipynb",
   "parameters": {},
   "start_time": "2024-06-15T16:24:43.338524",
   "version": "2.5.0"
  }
 },
 "nbformat": 4,
 "nbformat_minor": 5
}
